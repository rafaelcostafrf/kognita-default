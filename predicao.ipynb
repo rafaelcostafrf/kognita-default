{
 "cells": [
  {
   "cell_type": "code",
   "execution_count": 38,
   "source": [
    "import pickle\n",
    "import pandas as pd\n",
    "\n",
    "# Carregando o modelo salvo\n",
    "saved_dict = pickle.load(open('_model/default_classifier', 'rb'))\n",
    "\n",
    "# Carregando o modelo, as features mais importantes, e o setup de colunas da database original\n",
    "model = saved_dict['model']\n",
    "features = saved_dict['features']\n",
    "columns = saved_dict['columns']\n",
    "\n",
    "\n",
    "def generate_data_dict(names: list, data: list):\n",
    "    \"\"\"Gera um dicionário baseado em uma lista de nomes e de dados\n",
    "\n",
    "    Parameters\n",
    "    ----------\n",
    "    names : [list]\n",
    "        [lista de nomes de cada um dos dados]\n",
    "    data : [list]\n",
    "        [lista de valores de cada um dos dados]\n",
    "\n",
    "    Returns\n",
    "    -------\n",
    "    [dict]\n",
    "        [retorna o dicionário concatenado]\n",
    "    \"\"\"    \n",
    "    data_dict = {x: [y] for x, y in zip(names, data)}\n",
    "    return data_dict\n",
    "\n",
    "\n",
    "def default_prediction(data_dict):\n",
    "    \"\"\"Função para realizar previsão com o modelo treinado\n",
    "\n",
    "    Parameters\n",
    "    ----------\n",
    "    data_dict : [dict]\n",
    "        [dicionário com os valores features mais importantes do modelo]\n",
    "\n",
    "    Returns\n",
    "    -------\n",
    "    [list, list]\n",
    "        [retorna a previsão e a probabilidade desta previsão em listas]\n",
    "    \"\"\"    \n",
    "    X = pd.DataFrame(data_dict, columns=columns)\n",
    "    prediction = model.predict(X[features])\n",
    "    prob = model.predict_proba(X[features])\n",
    "    return prediction, prob\n",
    "\n",
    "# nomes das features\n",
    "names = features\n",
    "\n",
    "# dados destas features\n",
    "data = [3, 10000000, 60, 0, 0, 1000000, 2500000, 15, 4, 500000]\n",
    "\n",
    "# Gerando o dicionário\n",
    "data_dict = generate_data_dict(names=names, data=data)\n",
    "\n",
    "print(data_dict)\n",
    "\n",
    "# Calculando a previsão\n",
    "pred, prob = default_prediction(data_dict)\n",
    "\n",
    "print(f'Default: {pred[0]:d} Probabilidade: {prob[0][pred[0]]:.2%}')"
   ],
   "outputs": [
    {
     "output_type": "stream",
     "name": "stdout",
     "text": [
      "{'default_3months': [3], 'valor_vencido': [10000000], 'ioi_36months': [60], 'opcao_tributaria_simples nacional': [0], 'valor_quitado': [0], 'valor_por_vencer': [1000000], 'valor_total_pedido': [2500000], 'ioi_3months': [15], 'quant_protestos': [4], 'valor_protestos': [500000]}\n",
      "Default: 0 Probabilidade: 53.50%\n"
     ]
    }
   ],
   "metadata": {}
  }
 ],
 "metadata": {
  "orig_nbformat": 4,
  "language_info": {
   "name": "python",
   "version": "3.8.10",
   "mimetype": "text/x-python",
   "codemirror_mode": {
    "name": "ipython",
    "version": 3
   },
   "pygments_lexer": "ipython3",
   "nbconvert_exporter": "python",
   "file_extension": ".py"
  },
  "kernelspec": {
   "name": "python3",
   "display_name": "Python 3.8.10 64-bit"
  },
  "interpreter": {
   "hash": "916dbcbb3f70747c44a77c7bcd40155683ae19c65e1c03b4aa3499c5328201f1"
  }
 },
 "nbformat": 4,
 "nbformat_minor": 2
}