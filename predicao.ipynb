{
 "cells": [
  {
   "cell_type": "code",
   "execution_count": 6,
   "source": [
    "import pickle\n",
    "import pandas as pd\n",
    "\n",
    "# Carregando o modelo salvo\n",
    "saved_dict = pickle.load(open('_model/default_classifier', 'rb'))\n",
    "\n",
    "# Carregando o modelo, as features mais importantes, e o setup de colunas da database original\n",
    "model = saved_dict['model']\n",
    "features = saved_dict['features']\n",
    "columns = saved_dict['columns']\n",
    "\n",
    "\n",
    "def generate_data_dict(names: list, data: list):\n",
    "    \"\"\"Gera um dicionário baseado em uma lista de nomes e de dados\n",
    "\n",
    "    Parameters\n",
    "    ----------\n",
    "    names : [list]\n",
    "        [lista de nomes de cada um dos dados]\n",
    "    data : [list]\n",
    "        [lista de valores de cada um dos dados]\n",
    "\n",
    "    Returns\n",
    "    -------\n",
    "    [dict]\n",
    "        [retorna o dicionário concatenado]\n",
    "    \"\"\"    \n",
    "    data_dict = {x: y for x, y in zip(names, data)}\n",
    "    return data_dict\n",
    "\n",
    "\n",
    "def default_prediction(data_dict):\n",
    "    \"\"\"Função para realizar previsão com o modelo treinado\n",
    "\n",
    "    Parameters\n",
    "    ----------\n",
    "    data_dict : [dict]\n",
    "        [dicionário com os valores das features mais importantes do modelo]\n",
    "\n",
    "    Returns\n",
    "    -------\n",
    "    [list, list]\n",
    "        [retorna a previsão e a probabilidade desta previsão em listas]\n",
    "    \"\"\"    \n",
    "    X = pd.DataFrame(data_dict, columns=columns, index=[0])\n",
    "    prediction = model.predict(X[features])\n",
    "    prob = model.predict_proba(X[features])\n",
    "    return {'default': prediction[0], 'prob': prob[0]}\n",
    "\n",
    "# nomes das features\n",
    "names = features\n",
    "data = [3, 100000, 60, 0, 0, 10000, 25000, 15, 4, 50000]\n",
    "# Gerando o dicionário\n",
    "# dict_input = generate_data_dict(names=names, data=data)\n",
    "\n",
    "# dados destas features\n",
    "dict_input = {\n",
    "    'default_3months': 3, \n",
    "    'valor_vencido': 10000000, \n",
    "    'ioi_36months': 60, \n",
    "    'valor_por_vencer': 0, \n",
    "    'opcao_tributaria_simples nacional': 0, \n",
    "    'valor_total_pedido': 1000000, \n",
    "    'valor_quitado': 2500000, \n",
    "    'ioi_3months': 15, \n",
    "    'valor_protestos': 4, \n",
    "    'quant_protestos': 500000}\n",
    "\n",
    "\n",
    "\n",
    "# Calculando a previsão\n",
    "pred = default_prediction(dict_input)\n",
    "\n",
    "print(pred)"
   ],
   "outputs": [
    {
     "output_type": "stream",
     "name": "stdout",
     "text": [
      "{'default': 0, 'prob': array([0.5625, 0.4375])}\n"
     ]
    }
   ],
   "metadata": {}
  }
 ],
 "metadata": {
  "orig_nbformat": 4,
  "language_info": {
   "name": "python",
   "version": "3.8.10",
   "mimetype": "text/x-python",
   "codemirror_mode": {
    "name": "ipython",
    "version": 3
   },
   "pygments_lexer": "ipython3",
   "nbconvert_exporter": "python",
   "file_extension": ".py"
  },
  "kernelspec": {
   "name": "python3",
   "display_name": "Python 3.8.10 64-bit"
  },
  "interpreter": {
   "hash": "916dbcbb3f70747c44a77c7bcd40155683ae19c65e1c03b4aa3499c5328201f1"
  }
 },
 "nbformat": 4,
 "nbformat_minor": 2
}